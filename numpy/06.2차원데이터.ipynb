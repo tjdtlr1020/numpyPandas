{
 "cells": [
  {
   "cell_type": "code",
   "execution_count": 1,
   "metadata": {},
   "outputs": [],
   "source": [
    "import numpy as np"
   ]
  },
  {
   "cell_type": "code",
   "execution_count": 2,
   "metadata": {},
   "outputs": [
    {
     "data": {
      "text/plain": [
       "array([[ 1,  2,  3],\n",
       "       [ 7,  5,  2],\n",
       "       [10,  1,  8],\n",
       "       [ 6,  3,  4]])"
      ]
     },
     "execution_count": 2,
     "metadata": {},
     "output_type": "execute_result"
    }
   ],
   "source": [
    "data = np.array( [ [1,2,3],[7,5,2],[10,1,8],[6,3,4] ] )\n",
    "data"
   ]
  },
  {
   "cell_type": "markdown",
   "metadata": {},
   "source": [
    "## 2차원 데이터 인덱싱 슬라이싱 "
   ]
  },
  {
   "cell_type": "code",
   "execution_count": 4,
   "metadata": {},
   "outputs": [
    {
     "data": {
      "text/plain": [
       "(4, 3)"
      ]
     },
     "execution_count": 4,
     "metadata": {},
     "output_type": "execute_result"
    }
   ],
   "source": [
    "data.shape"
   ]
  },
  {
   "cell_type": "code",
   "execution_count": 6,
   "metadata": {},
   "outputs": [
    {
     "data": {
      "text/plain": [
       "array([[[ 1,  2,  3],\n",
       "        [ 7,  5,  2]],\n",
       "\n",
       "       [[10,  1,  8],\n",
       "        [ 6,  3,  4]]])"
      ]
     },
     "execution_count": 6,
     "metadata": {},
     "output_type": "execute_result"
    }
   ],
   "source": [
    "data.reshape(-1,2,3)"
   ]
  },
  {
   "cell_type": "code",
   "execution_count": 9,
   "metadata": {},
   "outputs": [
    {
     "data": {
      "text/plain": [
       "array([7, 5, 2])"
      ]
     },
     "execution_count": 9,
     "metadata": {},
     "output_type": "execute_result"
    }
   ],
   "source": [
    "# [행,열] 2차원\n",
    "# [면,행,열] 3차원\n",
    "data[1]"
   ]
  },
  {
   "cell_type": "code",
   "execution_count": 10,
   "metadata": {},
   "outputs": [
    {
     "data": {
      "text/plain": [
       "5"
      ]
     },
     "execution_count": 10,
     "metadata": {},
     "output_type": "execute_result"
    }
   ],
   "source": [
    "data[1,1]"
   ]
  },
  {
   "cell_type": "code",
   "execution_count": 15,
   "metadata": {},
   "outputs": [
    {
     "data": {
      "text/plain": [
       "array([[ 1,  2,  3],\n",
       "       [10,  1,  8],\n",
       "       [ 6,  3,  4]])"
      ]
     },
     "execution_count": 15,
     "metadata": {},
     "output_type": "execute_result"
    }
   ],
   "source": [
    "# 복수개 선택\n",
    "data[[0,2,3]]"
   ]
  },
  {
   "cell_type": "code",
   "execution_count": 16,
   "metadata": {},
   "outputs": [
    {
     "data": {
      "text/plain": [
       "array([[5, 2],\n",
       "       [1, 8]])"
      ]
     },
     "execution_count": 16,
     "metadata": {},
     "output_type": "execute_result"
    }
   ],
   "source": [
    "data[1:3,1:3]"
   ]
  },
  {
   "cell_type": "code",
   "execution_count": 11,
   "metadata": {},
   "outputs": [
    {
     "data": {
      "text/plain": [
       "array([[ 1,  2,  3],\n",
       "       [ 7,  5,  2],\n",
       "       [10,  1,  8],\n",
       "       [ 6,  3,  4]])"
      ]
     },
     "execution_count": 11,
     "metadata": {},
     "output_type": "execute_result"
    }
   ],
   "source": [
    "data"
   ]
  },
  {
   "cell_type": "markdown",
   "metadata": {},
   "source": [
    "마지막열을 제외하고 선택하시오"
   ]
  },
  {
   "cell_type": "code",
   "execution_count": 18,
   "metadata": {},
   "outputs": [
    {
     "data": {
      "text/plain": [
       "array([[ 1,  2],\n",
       "       [ 7,  5],\n",
       "       [10,  1],\n",
       "       [ 6,  3]])"
      ]
     },
     "execution_count": 18,
     "metadata": {},
     "output_type": "execute_result"
    }
   ],
   "source": [
    "data[:,:-1]"
   ]
  },
  {
   "cell_type": "markdown",
   "metadata": {},
   "source": [
    "마지막열만 선택하시오"
   ]
  },
  {
   "cell_type": "code",
   "execution_count": 27,
   "metadata": {},
   "outputs": [
    {
     "data": {
      "text/plain": [
       "array([[3],\n",
       "       [2],\n",
       "       [8],\n",
       "       [4]])"
      ]
     },
     "execution_count": 27,
     "metadata": {},
     "output_type": "execute_result"
    }
   ],
   "source": [
    "data[:,[-1]] # 특성데이터 추출 (라벨추출 법)"
   ]
  },
  {
   "cell_type": "markdown",
   "metadata": {},
   "source": [
    "## 2차원 데이터 boolean index(행단위)"
   ]
  },
  {
   "cell_type": "code",
   "execution_count": 28,
   "metadata": {},
   "outputs": [
    {
     "data": {
      "text/plain": [
       "array([[1, 2, 3],\n",
       "       [7, 5, 2],\n",
       "       [6, 3, 4]])"
      ]
     },
     "execution_count": 28,
     "metadata": {},
     "output_type": "execute_result"
    }
   ],
   "source": [
    "data[[True,True,False,True]]"
   ]
  },
  {
   "cell_type": "markdown",
   "metadata": {},
   "source": [
    "## 2차원 연산 (산술,관계,논리)"
   ]
  },
  {
   "cell_type": "code",
   "execution_count": 29,
   "metadata": {},
   "outputs": [
    {
     "data": {
      "text/plain": [
       "array([[ 3,  4,  5],\n",
       "       [ 9,  7,  4],\n",
       "       [12,  3, 10],\n",
       "       [ 8,  5,  6]])"
      ]
     },
     "execution_count": 29,
     "metadata": {},
     "output_type": "execute_result"
    }
   ],
   "source": [
    "data+2"
   ]
  },
  {
   "cell_type": "code",
   "execution_count": 32,
   "metadata": {},
   "outputs": [],
   "source": [
    "data[1]=data[1] +2 # 특정행만 산술연산"
   ]
  },
  {
   "cell_type": "code",
   "execution_count": 37,
   "metadata": {},
   "outputs": [],
   "source": [
    "data[:,1] = data[:,1]+2"
   ]
  },
  {
   "cell_type": "code",
   "execution_count": 38,
   "metadata": {},
   "outputs": [
    {
     "data": {
      "text/plain": [
       "array([[ 1,  4,  3],\n",
       "       [ 9,  9,  4],\n",
       "       [10,  3,  8],\n",
       "       [ 6,  5,  4]])"
      ]
     },
     "execution_count": 38,
     "metadata": {},
     "output_type": "execute_result"
    }
   ],
   "source": [
    "data"
   ]
  },
  {
   "cell_type": "code",
   "execution_count": 41,
   "metadata": {},
   "outputs": [
    {
     "data": {
      "text/plain": [
       "array([False,  True,  True,  True])"
      ]
     },
     "execution_count": 41,
     "metadata": {},
     "output_type": "execute_result"
    }
   ],
   "source": [
    "data[:,0]>5"
   ]
  },
  {
   "cell_type": "code",
   "execution_count": 42,
   "metadata": {
    "scrolled": true
   },
   "outputs": [
    {
     "data": {
      "text/plain": [
       "array([[ 9,  9,  4],\n",
       "       [10,  3,  8],\n",
       "       [ 6,  5,  4]])"
      ]
     },
     "execution_count": 42,
     "metadata": {},
     "output_type": "execute_result"
    }
   ],
   "source": [
    "data[data[:,0]>5]"
   ]
  },
  {
   "cell_type": "code",
   "execution_count": 47,
   "metadata": {},
   "outputs": [
    {
     "data": {
      "text/plain": [
       "array([[ 1,  4,  3],\n",
       "       [10,  3,  8],\n",
       "       [ 6,  5,  4]])"
      ]
     },
     "execution_count": 47,
     "metadata": {},
     "output_type": "execute_result"
    }
   ],
   "source": [
    "data[(data[:,1]>=3) & (data[:,1]<=7)] # 1열이 영어라 치면 3~7사이의 영어점수를 가진 사람 을 가저오는것 "
   ]
  },
  {
   "cell_type": "markdown",
   "metadata": {},
   "source": [
    "## 2차원 추가,수정,삭제,검색,정렬"
   ]
  },
  {
   "cell_type": "code",
   "execution_count": 48,
   "metadata": {},
   "outputs": [],
   "source": [
    "ax = np.array([[1,2],[3,4]])\n",
    "ay = np.array([[5,6],[7,8]])"
   ]
  },
  {
   "cell_type": "code",
   "execution_count": 53,
   "metadata": {},
   "outputs": [
    {
     "data": {
      "text/plain": [
       "array([[1, 2, 5, 6],\n",
       "       [3, 4, 7, 8]])"
      ]
     },
     "execution_count": 53,
     "metadata": {},
     "output_type": "execute_result"
    }
   ],
   "source": [
    "np.append(ax,ay,axis = None) # 1차원으로 풀어서 출력 디폴트값\n",
    "np.append(ax,ay,axis = 0) # row(행)에 추가\n",
    "np.append(ax,ay,axis = 1) # coliumn(열)에 추가"
   ]
  },
  {
   "cell_type": "code",
   "execution_count": 54,
   "metadata": {},
   "outputs": [
    {
     "data": {
      "text/plain": [
       "array([[1, 2, 5, 6],\n",
       "       [3, 4, 7, 8]])"
      ]
     },
     "execution_count": 54,
     "metadata": {},
     "output_type": "execute_result"
    }
   ],
   "source": [
    "np.hstack((ax,ay)) # horizon 열과 같다 여러개를 붙일수있다"
   ]
  },
  {
   "cell_type": "code",
   "execution_count": 56,
   "metadata": {},
   "outputs": [
    {
     "data": {
      "text/plain": [
       "array([[1, 2],\n",
       "       [3, 4],\n",
       "       [5, 6],\n",
       "       [7, 8]])"
      ]
     },
     "execution_count": 56,
     "metadata": {},
     "output_type": "execute_result"
    }
   ],
   "source": [
    "np.vstack((ax,ay)) # vertical 행과 같다 여러개를 붙일 수있다"
   ]
  },
  {
   "cell_type": "markdown",
   "metadata": {},
   "source": [
    "## 삭제"
   ]
  },
  {
   "cell_type": "code",
   "execution_count": 57,
   "metadata": {},
   "outputs": [
    {
     "data": {
      "text/plain": [
       "array([ 4,  9,  9,  4, 10,  3,  8,  6,  5,  4])"
      ]
     },
     "execution_count": 57,
     "metadata": {},
     "output_type": "execute_result"
    }
   ],
   "source": [
    "np.delete(data,[0,2]) # axis 인자를 본다 "
   ]
  },
  {
   "cell_type": "code",
   "execution_count": 58,
   "metadata": {},
   "outputs": [
    {
     "data": {
      "text/plain": [
       "array([[9, 9, 4],\n",
       "       [6, 5, 4]])"
      ]
     },
     "execution_count": 58,
     "metadata": {},
     "output_type": "execute_result"
    }
   ],
   "source": [
    "np.delete(data,[0,2],axis = 0) # 0,2행이 삭제됨"
   ]
  },
  {
   "cell_type": "code",
   "execution_count": 59,
   "metadata": {},
   "outputs": [
    {
     "data": {
      "text/plain": [
       "array([[4],\n",
       "       [9],\n",
       "       [3],\n",
       "       [5]])"
      ]
     },
     "execution_count": 59,
     "metadata": {},
     "output_type": "execute_result"
    }
   ],
   "source": [
    "np.delete(data,[0,2],axis = 1) # 0,2열이 삭제됨"
   ]
  },
  {
   "cell_type": "markdown",
   "metadata": {},
   "source": [
    "## 정렬"
   ]
  },
  {
   "cell_type": "code",
   "execution_count": 63,
   "metadata": {},
   "outputs": [
    {
     "data": {
      "text/plain": [
       "array([[ 1,  3,  3],\n",
       "       [ 6,  4,  4],\n",
       "       [ 9,  5,  4],\n",
       "       [10,  9,  8]])"
      ]
     },
     "execution_count": 63,
     "metadata": {},
     "output_type": "execute_result"
    }
   ],
   "source": [
    "np.sort(data,axis=None) # 1차원으로 풀어서오름차순 정렬"
   ]
  },
  {
   "cell_type": "code",
   "execution_count": 64,
   "metadata": {},
   "outputs": [
    {
     "data": {
      "text/plain": [
       "array([[ 1,  3,  3],\n",
       "       [ 6,  4,  4],\n",
       "       [ 9,  5,  4],\n",
       "       [10,  9,  8]])"
      ]
     },
     "execution_count": 64,
     "metadata": {},
     "output_type": "execute_result"
    }
   ],
   "source": [
    "np.sort(data,axis=0) # 열단위로 정렬"
   ]
  },
  {
   "cell_type": "code",
   "execution_count": 65,
   "metadata": {},
   "outputs": [
    {
     "data": {
      "text/plain": [
       "array([[ 1,  3,  4],\n",
       "       [ 4,  9,  9],\n",
       "       [ 3,  8, 10],\n",
       "       [ 4,  5,  6]])"
      ]
     },
     "execution_count": 65,
     "metadata": {},
     "output_type": "execute_result"
    }
   ],
   "source": [
    "np.sort(data,axis=1) # 행단위로 정렬"
   ]
  },
  {
   "cell_type": "markdown",
   "metadata": {},
   "source": [
    "## 2 차원 통계\n",
    "디폴트 axis=None ==> 1차원의 통계<br>\n",
    "axis=0 ==>컬럼별 통계값<br>\n",
    "axis=1 => row별 통계값"
   ]
  },
  {
   "cell_type": "code",
   "execution_count": 66,
   "metadata": {},
   "outputs": [
    {
     "data": {
      "text/plain": [
       "66"
      ]
     },
     "execution_count": 66,
     "metadata": {},
     "output_type": "execute_result"
    }
   ],
   "source": [
    "data.sum()"
   ]
  },
  {
   "cell_type": "code",
   "execution_count": 67,
   "metadata": {},
   "outputs": [
    {
     "data": {
      "text/plain": [
       "array([26, 21, 19])"
      ]
     },
     "execution_count": 67,
     "metadata": {},
     "output_type": "execute_result"
    }
   ],
   "source": [
    "data.sum(axis=0)"
   ]
  },
  {
   "cell_type": "code",
   "execution_count": 68,
   "metadata": {},
   "outputs": [
    {
     "data": {
      "text/plain": [
       "array([ 8, 22, 21, 15])"
      ]
     },
     "execution_count": 68,
     "metadata": {},
     "output_type": "execute_result"
    }
   ],
   "source": [
    "data.sum(axis=1)"
   ]
  },
  {
   "cell_type": "code",
   "execution_count": 69,
   "metadata": {},
   "outputs": [
    {
     "data": {
      "text/plain": [
       "5.5"
      ]
     },
     "execution_count": 69,
     "metadata": {},
     "output_type": "execute_result"
    }
   ],
   "source": [
    "data.mean()"
   ]
  },
  {
   "cell_type": "code",
   "execution_count": 70,
   "metadata": {},
   "outputs": [
    {
     "data": {
      "text/plain": [
       "array([6.5 , 5.25, 4.75])"
      ]
     },
     "execution_count": 70,
     "metadata": {},
     "output_type": "execute_result"
    }
   ],
   "source": [
    "data.mean(axis = 0)"
   ]
  },
  {
   "cell_type": "code",
   "execution_count": 71,
   "metadata": {},
   "outputs": [
    {
     "data": {
      "text/plain": [
       "array([2.66666667, 7.33333333, 7.        , 5.        ])"
      ]
     },
     "execution_count": 71,
     "metadata": {},
     "output_type": "execute_result"
    }
   ],
   "source": [
    "data.mean(axis=1)"
   ]
  },
  {
   "cell_type": "code",
   "execution_count": 72,
   "metadata": {},
   "outputs": [
    {
     "data": {
      "text/plain": [
       "10"
      ]
     },
     "execution_count": 72,
     "metadata": {},
     "output_type": "execute_result"
    }
   ],
   "source": [
    "data.max()"
   ]
  },
  {
   "cell_type": "code",
   "execution_count": 76,
   "metadata": {},
   "outputs": [
    {
     "data": {
      "text/plain": [
       "array([ 4,  9, 10,  6])"
      ]
     },
     "execution_count": 76,
     "metadata": {},
     "output_type": "execute_result"
    }
   ],
   "source": [
    "data.max(axis=1)"
   ]
  },
  {
   "cell_type": "code",
   "execution_count": 78,
   "metadata": {},
   "outputs": [
    {
     "data": {
      "text/plain": [
       "array([1, 0, 0, 0], dtype=int64)"
      ]
     },
     "execution_count": 78,
     "metadata": {},
     "output_type": "execute_result"
    }
   ],
   "source": [
    "data.argmax(axis = 1) # 분류에서많이 활용된다"
   ]
  },
  {
   "cell_type": "code",
   "execution_count": 80,
   "metadata": {},
   "outputs": [
    {
     "name": "stdout",
     "output_type": "stream",
     "text": [
      "[1 4 3]\n",
      "[9 9 4]\n",
      "[10  3  8]\n",
      "[6 5 4]\n"
     ]
    }
   ],
   "source": [
    "for n in data:\n",
    "    print(n)"
   ]
  },
  {
   "cell_type": "code",
   "execution_count": 113,
   "metadata": {},
   "outputs": [
    {
     "data": {
      "text/plain": [
       "array([[1, 4, 3],\n",
       "       [9, 9, 4],\n",
       "       [6, 5, 4]])"
      ]
     },
     "execution_count": 113,
     "metadata": {},
     "output_type": "execute_result"
    }
   ],
   "source": [
    "data[(data[:,2]>=3) & (data[:,2]<=5)]"
   ]
  },
  {
   "cell_type": "code",
   "execution_count": 98,
   "metadata": {},
   "outputs": [],
   "source": [
    "d = data.tolist()"
   ]
  },
  {
   "cell_type": "code",
   "execution_count": 100,
   "metadata": {},
   "outputs": [],
   "source": [
    "## 데이터읽기"
   ]
  },
  {
   "cell_type": "code",
   "execution_count": 101,
   "metadata": {},
   "outputs": [
    {
     "data": {
      "text/plain": [
       "array([[   1880,   90993,  110491],\n",
       "       [   1881,   91954,  100745],\n",
       "       [   1882,  107850,  113688],\n",
       "       [   1883,  112321,  104629],\n",
       "       [   1884,  129022,  114445],\n",
       "       [   1885,  133055,  107800],\n",
       "       [   1886,  144535,  110784],\n",
       "       [   1887,  145982,  101414],\n",
       "       [   1888,  178627,  120853],\n",
       "       [   1889,  178366,  110584],\n",
       "       [   1890,  190377,  111025],\n",
       "       [   1891,  185482,  101196],\n",
       "       [   1892,  212346,  122037],\n",
       "       [   1893,  212906,  112317],\n",
       "       [   1894,  222922,  115772],\n",
       "       [   1895,  233630,  117398],\n",
       "       [   1896,  237920,  119570],\n",
       "       [   1897,  234202,  112758],\n",
       "       [   1898,  258770,  122693],\n",
       "       [   1899,  233023,  106212],\n",
       "       [   1900,  299828,  150499],\n",
       "       [   1901,  239348,  106471],\n",
       "       [   1902,  264077,  122659],\n",
       "       [   1903,  261973,  119234],\n",
       "       [   1904,  275371,  128125],\n",
       "       [   1905,  291629,  132319],\n",
       "       [   1906,  295303,  133159],\n",
       "       [   1907,  318566,  146833],\n",
       "       [   1908,  334313,  154344],\n",
       "       [   1909,  347228,  163999],\n",
       "       [   1910,  396501,  194218],\n",
       "       [   1911,  418299,  225968],\n",
       "       [   1912,  558103,  429945],\n",
       "       [   1913,  624518,  512557],\n",
       "       [   1914,  761548,  654762],\n",
       "       [   1915,  983874,  848603],\n",
       "       [   1916, 1044323,  890099],\n",
       "       [   1917, 1081280,  925511],\n",
       "       [   1918, 1157647, 1013537],\n",
       "       [   1919, 1130145,  980149],\n",
       "       [   1920, 1198283, 1064463],\n",
       "       [   1921, 1232999, 1101457],\n",
       "       [   1922, 1200919, 1088287],\n",
       "       [   1923, 1206330, 1096168],\n",
       "       [   1924, 1248876, 1132751],\n",
       "       [   1925, 1217352, 1115958],\n",
       "       [   1926, 1185304, 1110505],\n",
       "       [   1927, 1192330, 1126717],\n",
       "       [   1928, 1153117, 1107518],\n",
       "       [   1929, 1116422, 1075313],\n",
       "       [   1930, 1125761, 1097176],\n",
       "       [   1931, 1064497, 1039127],\n",
       "       [   1932, 1066994, 1043808],\n",
       "       [   1933, 1007710,  991127],\n",
       "       [   1934, 1044039, 1032291],\n",
       "       [   1935, 1048428, 1040930],\n",
       "       [   1936, 1040202, 1036974],\n",
       "       [   1937, 1063872, 1066309],\n",
       "       [   1938, 1103277, 1108841],\n",
       "       [   1939, 1096518, 1106544],\n",
       "       [   1940, 1143325, 1158900],\n",
       "       [   1941, 1207919, 1227941],\n",
       "       [   1942, 1350545, 1380774],\n",
       "       [   1943, 1395082, 1426846],\n",
       "       [   1944, 1327104, 1362555],\n",
       "       [   1945, 1307028, 1345610],\n",
       "       [   1946, 1571184, 1623650],\n",
       "       [   1947, 1772644, 1829223],\n",
       "       [   1948, 1697814, 1754469],\n",
       "       [   1949, 1710825, 1773725],\n",
       "       [   1950, 1713180, 1790673],\n",
       "       [   1951, 1800042, 1881080],\n",
       "       [   1952, 1854698, 1944277],\n",
       "       [   1953, 1880326, 1969777],\n",
       "       [   1954, 1941682, 2037374],\n",
       "       [   1955, 1954664, 2057918],\n",
       "       [   1956, 2007512, 2113694],\n",
       "       [   1957, 2044160, 2155866],\n",
       "       [   1958, 2010884, 2120712],\n",
       "       [   1959, 2023044, 2133509],\n",
       "       [   1960, 2022093, 2132717],\n",
       "       [   1961, 2017316, 2122502],\n",
       "       [   1962, 1966548, 2068945],\n",
       "       [   1963, 1927217, 2031755],\n",
       "       [   1964, 1894594, 1993270],\n",
       "       [   1965, 1765001, 1861378],\n",
       "       [   1966, 1691868, 1783964],\n",
       "       [   1967, 1650764, 1744527],\n",
       "       [   1968, 1640103, 1738928],\n",
       "       [   1969, 1686947, 1789732],\n",
       "       [   1970, 1748147, 1859594],\n",
       "       [   1971, 1663475, 1769201],\n",
       "       [   1972, 1521185, 1622666],\n",
       "       [   1973, 1458139, 1559338],\n",
       "       [   1974, 1467413, 1573105],\n",
       "       [   1975, 1457699, 1562207],\n",
       "       [   1976, 1465096, 1569904],\n",
       "       [   1977, 1532997, 1643684],\n",
       "       [   1978, 1531658, 1642250],\n",
       "       [   1979, 1605051, 1721947],\n",
       "       [   1980, 1659933, 1783876],\n",
       "       [   1981, 1667465, 1790907],\n",
       "       [   1982, 1692678, 1813970],\n",
       "       [   1983, 1670061, 1791732],\n",
       "       [   1984, 1682973, 1803830],\n",
       "       [   1985, 1720036, 1847032],\n",
       "       [   1986, 1714664, 1840164],\n",
       "       [   1987, 1737891, 1865662],\n",
       "       [   1988, 1779839, 1912602],\n",
       "       [   1989, 1843105, 1999999],\n",
       "       [   1990, 1897709, 2052543],\n",
       "       [   1991, 1874434, 2019463],\n",
       "       [   1992, 1843304, 1996388],\n",
       "       [   1993, 1808379, 1960397],\n",
       "       [   1994, 1785074, 1931157],\n",
       "       [   1995, 1757927, 1902832],\n",
       "       [   1996, 1752249, 1893378],\n",
       "       [   1997, 1739806, 1884122],\n",
       "       [   1998, 1765915, 1910250],\n",
       "       [   1999, 1772632, 1918809],\n",
       "       [   2000, 1814601, 1962406],\n",
       "       [   2001, 1799049, 1941251],\n",
       "       [   2002, 1795206, 1939815],\n",
       "       [   2003, 1825359, 1973434],\n",
       "       [   2004, 1834145, 1982794],\n",
       "       [   2005, 1845379, 1994841],\n",
       "       [   2006, 1898463, 2052377],\n",
       "       [   2007, 1919408, 2072139],\n",
       "       [   2008, 1887234, 2036289],\n",
       "       [   2009, 1832925, 1979303],\n",
       "       [   2010, 1772738, 1913851],\n",
       "       [   2011, 1753500, 1893230]], dtype=int64)"
      ]
     },
     "execution_count": 101,
     "metadata": {},
     "output_type": "execute_result"
    }
   ],
   "source": [
    "birth = np.loadtxt('data/births.txt',delimiter=',', dtype=np.int64)\n",
    "birth"
   ]
  },
  {
   "cell_type": "code",
   "execution_count": 102,
   "metadata": {},
   "outputs": [
    {
     "data": {
      "text/plain": [
       "(132, 3)"
      ]
     },
     "execution_count": 102,
     "metadata": {},
     "output_type": "execute_result"
    }
   ],
   "source": [
    "birth.shape"
   ]
  },
  {
   "cell_type": "code",
   "execution_count": 103,
   "metadata": {},
   "outputs": [],
   "source": [
    "import matplotlib.pyplot as plt"
   ]
  },
  {
   "cell_type": "code",
   "execution_count": 104,
   "metadata": {},
   "outputs": [],
   "source": [
    "a = np.array([1,2,3,4,5])\n",
    "b = np.array([11,22,33,44,55])"
   ]
  },
  {
   "cell_type": "code",
   "execution_count": 108,
   "metadata": {},
   "outputs": [
    {
     "data": {
      "image/png": "[encoded data removed]",
      "text/plain": [
       "<Figure size 432x288 with 1 Axes>"
      ]
     },
     "metadata": {
      "needs_background": "light"
     },
     "output_type": "display_data"
    }
   ],
   "source": [
    "plt.title('kor')\n",
    "plt.xlabel('num')\n",
    "plt.ylabel('grade')\n",
    "plt.plot(a,b,'ro--') # 직선 그래프 전용함수\n",
    "plt.bar(a,b)\n",
    "plt.show()"
   ]
  },
  {
   "cell_type": "code",
   "execution_count": 40,
   "metadata": {},
   "outputs": [
    {
     "data": {
      "text/plain": [
       "array([[ 1,  4,  3],\n",
       "       [ 9,  9,  4],\n",
       "       [10,  3,  8],\n",
       "       [ 6,  5,  4]])"
      ]
     },
     "execution_count": 40,
     "metadata": {},
     "output_type": "execute_result"
    }
   ],
   "source": [
    "data"
   ]
  },
  {
   "cell_type": "code",
   "execution_count": null,
   "metadata": {},
   "outputs": [],
   "source": []
  }
 ],
 "metadata": {
  "kernelspec": {
   "display_name": "Python 3",
   "language": "python",
   "name": "python3"
  },
  "language_info": {
   "codemirror_mode": {
    "name": "ipython",
    "version": 3
   },
   "file_extension": ".py",
   "mimetype": "text/x-python",
   "name": "python",
   "nbconvert_exporter": "python",
   "pygments_lexer": "ipython3",
   "version": "3.7.6"
  }
 },
 "nbformat": 4,
 "nbformat_minor": 4
}
