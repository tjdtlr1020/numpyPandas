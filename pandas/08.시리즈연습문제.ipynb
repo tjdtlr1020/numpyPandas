{
 "cells": [
  {
   "cell_type": "code",
   "execution_count": 1,
   "metadata": {},
   "outputs": [],
   "source": [
    "import pandas as pd\n",
    "import numpy as np\n",
    "import matplotlib.pyplot as plt\n",
    "\n",
    "\n",
    "# 한글 처리때문에 넣은 코드\n",
    "import matplotlib\n",
    "matplotlib.rcParams['font.family']='Malgun Gothic'\n",
    "matplotlib.rcParams['axes.unicode_minus'] = False"
   ]
  },
  {
   "cell_type": "code",
   "execution_count": 104,
   "metadata": {},
   "outputs": [
    {
     "data": {
      "text/plain": [
       "홍길동     90\n",
       "이순신     90\n",
       "임꺽정     55\n",
       "정난정     60\n",
       "이이      76\n",
       "이황      80\n",
       "정도전     76\n",
       "김철수1    88\n",
       "김철수2    30\n",
       "김철수3    25\n",
       "Name: 국어점수, dtype: int64"
      ]
     },
     "execution_count": 104,
     "metadata": {},
     "output_type": "execute_result"
    }
   ],
   "source": [
    "sr = pd.Series( [90,90,55,60,76,80,76,88,30,25],\n",
    "               name=\"국어점수\" )\n",
    "sr.index=['홍길동','이순신','임꺽정','정난정',\n",
    "         '이이','이황','정도전','김철수1',\n",
    "          '김철수2','김철수3']\n",
    "sr"
   ]
  },
  {
   "cell_type": "markdown",
   "metadata": {},
   "source": [
    "( 연습문제 )\n",
    "1. 국어점수가 가장큰값을 구하시요\n",
    "2. 국어점수가 가장큰값의 이름을 구하시요\n",
    "3. 국어점수가 80점이상인 값을 구하시요\n",
    "4. 국어 점수가 50점이상 80점이하인값을 구하시요\n",
    "5. 이름이 김으로 시작하는 데이터를구하시요\n",
    "6. 국어점수의 평균을 구하시요\n",
    "7. 국어점수의 총합을 구하시요\n",
    "8. 국어점수의 표준편차를 구하시요\n",
    "9. 국어점수가 40점이하인 데이터를 삭제하시요\n",
    "10. 국어점수가 50점이상인 데이터에 가산점 10%를 미만인경우는 20%를 부여하시요\n",
    "11. 국어점수 top 5를 구하시요\n",
    "12. 국어점수가 50점이상인 데이터의 바차트를 그리시요\n",
    "13. 국어점수의 범위(0~50,50~70,70~100)별 돗수를 구하시요 ( 범위, 0~50,50~70,70~100)\n",
    "14. 아래처럼 출력하시요(70점이상 합격 미만 불합격)\n",
    "========================\n",
    "이름     국어   합격여부\n",
    "=========================\n",
    "홍길동   90      합격\n",
    "이순신   90      합격\n",
    "...."
   ]
  },
  {
   "cell_type": "code",
   "execution_count": 34,
   "metadata": {},
   "outputs": [
    {
     "name": "stdout",
     "output_type": "stream",
     "text": [
      "최고국어점수: 90\n"
     ]
    }
   ],
   "source": [
    "# 1. 국어점수가 가장큰값을 구하시요\n",
    "print('최고국어점수:',sr[sr.idxmax()]) "
   ]
  },
  {
   "cell_type": "code",
   "execution_count": 58,
   "metadata": {},
   "outputs": [
    {
     "name": "stdout",
     "output_type": "stream",
     "text": [
      "홍길동\n"
     ]
    }
   ],
   "source": [
    "#2. 국어점수가 가장큰값의 이름을 구하시요\n",
    "print(sr.idxmax())"
   ]
  },
  {
   "cell_type": "code",
   "execution_count": 36,
   "metadata": {},
   "outputs": [
    {
     "name": "stdout",
     "output_type": "stream",
     "text": [
      "홍길동     90\n",
      "이순신     90\n",
      "이황      80\n",
      "김철수1    88\n",
      "Name: 국어점수, dtype: int64\n"
     ]
    }
   ],
   "source": [
    "# 3. 국어점수가 80점이상인 값을 구하시요\n",
    "print(sr[sr>=80])"
   ]
  },
  {
   "cell_type": "code",
   "execution_count": 16,
   "metadata": {
    "scrolled": true
   },
   "outputs": [
    {
     "name": "stdout",
     "output_type": "stream",
     "text": [
      "임꺽정 55\n",
      "정난정 60\n",
      "이이 76\n",
      "이황 80\n",
      "정도전 76\n"
     ]
    }
   ],
   "source": [
    "# 4. 국어 점수가 50점이상 80점이하인값을 구하시요\n",
    "sr[(sr>=50) & (sr<=80)]\n",
    "# sr[sr.between(50,80)]\n",
    "for i,v in sr[(sr>=50) & (sr<=80)].items():\n",
    "    print(i,v)"
   ]
  },
  {
   "cell_type": "code",
   "execution_count": 66,
   "metadata": {},
   "outputs": [
    {
     "name": "stdout",
     "output_type": "stream",
     "text": [
      "김철수1    88\n",
      "김철수2    30\n",
      "김철수3    25\n",
      "Name: 국어점수, dtype: int64\n"
     ]
    }
   ],
   "source": [
    "#5. 이름이 김으로 시작하는 데이터를구하시요\n",
    "print(sr[sr.index.str.contains('^김')])"
   ]
  },
  {
   "cell_type": "code",
   "execution_count": 119,
   "metadata": {},
   "outputs": [
    {
     "name": "stdout",
     "output_type": "stream",
     "text": [
      "평균 67.0\n"
     ]
    }
   ],
   "source": [
    "# 6. 국어점수의 평균을 구하시요\n",
    "print('평균',sr.mean())"
   ]
  },
  {
   "cell_type": "code",
   "execution_count": 118,
   "metadata": {},
   "outputs": [
    {
     "name": "stdout",
     "output_type": "stream",
     "text": [
      "총합 670\n"
     ]
    }
   ],
   "source": [
    "# 7. 국어점수의 총합을 구하시요\n",
    "sr.sum()\n",
    "print('총합',sr.sum())"
   ]
  },
  {
   "cell_type": "code",
   "execution_count": 121,
   "metadata": {},
   "outputs": [
    {
     "name": "stdout",
     "output_type": "stream",
     "text": [
      "표준편차: 23.935097428021656\n"
     ]
    },
    {
     "ename": "AttributeError",
     "evalue": "'NoneType' object has no attribute 'round'",
     "output_type": "error",
     "traceback": [
      "\u001b[1;31m---------------------------------------------------------------------------\u001b[0m",
      "\u001b[1;31mAttributeError\u001b[0m                            Traceback (most recent call last)",
      "\u001b[1;32m<ipython-input-121-c186a896653e>\u001b[0m in \u001b[0;36m<module>\u001b[1;34m\u001b[0m\n\u001b[0;32m      1\u001b[0m \u001b[1;31m#8. 국어점수의 표준편차를 구하시요\u001b[0m\u001b[1;33m\u001b[0m\u001b[1;33m\u001b[0m\u001b[1;33m\u001b[0m\u001b[0m\n\u001b[1;32m----> 2\u001b[1;33m \u001b[0mprint\u001b[0m\u001b[1;33m(\u001b[0m\u001b[1;34m'표준편차:'\u001b[0m\u001b[1;33m,\u001b[0m\u001b[0msr\u001b[0m\u001b[1;33m.\u001b[0m\u001b[0mstd\u001b[0m\u001b[1;33m(\u001b[0m\u001b[1;33m)\u001b[0m\u001b[1;33m)\u001b[0m\u001b[1;33m.\u001b[0m\u001b[0mround\u001b[0m\u001b[1;33m(\u001b[0m\u001b[1;36m2\u001b[0m\u001b[1;33m)\u001b[0m\u001b[1;33m\u001b[0m\u001b[1;33m\u001b[0m\u001b[0m\n\u001b[0m",
      "\u001b[1;31mAttributeError\u001b[0m: 'NoneType' object has no attribute 'round'"
     ]
    }
   ],
   "source": [
    "#8. 국어점수의 표준편차를 구하시요\n",
    "print('표준편차:',sr.std())"
   ]
  },
  {
   "cell_type": "code",
   "execution_count": 37,
   "metadata": {},
   "outputs": [
    {
     "data": {
      "text/plain": [
       "홍길동     90\n",
       "이순신     90\n",
       "임꺽정     55\n",
       "정난정     60\n",
       "이이      76\n",
       "이황      80\n",
       "정도전     76\n",
       "김철수1    88\n",
       "Name: 국어점수, dtype: int64"
      ]
     },
     "execution_count": 37,
     "metadata": {},
     "output_type": "execute_result"
    }
   ],
   "source": [
    "# 9. 국어점수가 40점이하인 데이터를 삭제하시요\n",
    "sr.drop(sr[sr<=40].index) # inplace=True"
   ]
  },
  {
   "cell_type": "code",
   "execution_count": 113,
   "metadata": {
    "scrolled": true
   },
   "outputs": [
    {
     "data": {
      "text/plain": [
       "홍길동     99.0\n",
       "이순신     99.0\n",
       "임꺽정     60.5\n",
       "정난정     66.0\n",
       "이이      83.6\n",
       "이황      88.0\n",
       "정도전     83.6\n",
       "김철수1    96.8\n",
       "김철수2    36.0\n",
       "김철수3    30.0\n",
       "Name: 국어점수, dtype: float64"
      ]
     },
     "execution_count": 113,
     "metadata": {},
     "output_type": "execute_result"
    }
   ],
   "source": [
    "# 10. 국어점수가 50점이상인 데이터에 가산점 10%를 미만인경우는 20%를 부여하시요\n",
    "b=sr.apply(lambda v: v*1.1 if v>=50 else v*1.2)\n",
    "b.round(1)"
   ]
  },
  {
   "cell_type": "code",
   "execution_count": 63,
   "metadata": {},
   "outputs": [
    {
     "data": {
      "text/plain": [
       "홍길동     90\n",
       "이순신     90\n",
       "김철수1    88\n",
       "이황      80\n",
       "이이      76\n",
       "정도전     76\n",
       "Name: 국어점수, dtype: int64"
      ]
     },
     "execution_count": 63,
     "metadata": {},
     "output_type": "execute_result"
    }
   ],
   "source": [
    "#11. 국어점수 top 5를 구하시요\n",
    "sr.nlargest(5,keep='all')"
   ]
  },
  {
   "cell_type": "code",
   "execution_count": 38,
   "metadata": {},
   "outputs": [
    {
     "data": {
      "image/png": "[encoded data removed]",
      "text/plain": [
       "<Figure size 432x288 with 1 Axes>"
      ]
     },
     "metadata": {
      "needs_background": "light"
     },
     "output_type": "display_data"
    }
   ],
   "source": [
    "# 12. 국어점수가 50점이상인 데이터의 바차트를 그리시요\n",
    "sr[sr>=50].plot( kind='bar')\n",
    "plt.show()"
   ]
  },
  {
   "cell_type": "code",
   "execution_count": 123,
   "metadata": {},
   "outputs": [
    {
     "name": "stdout",
     "output_type": "stream",
     "text": [
      "(0, 50] = 2 개\n",
      "(50, 70] = 2 개\n",
      "(70, 100] = 6 개\n"
     ]
    }
   ],
   "source": [
    "# 13. 국어점수의 범위(0~50,50~70,70~100)별 돗수를 구하시요 ( 범위, 0~50,50~70,70~100)\n",
    "b = pd.cut(sr,[0,50,70,100]).value_counts().sort_index()\n",
    "for i,v in b.items():\n",
    "    print(i,'=',v,'개')"
   ]
  },
  {
   "cell_type": "code",
   "execution_count": 124,
   "metadata": {},
   "outputs": [
    {
     "name": "stdout",
     "output_type": "stream",
     "text": [
      "이름\t 국어\t 합격여부\n",
      "=========================\n",
      "홍길동\t90\t합격\n",
      "이순신\t90\t합격\n",
      "임꺽정\t55\t불합격\n",
      "정난정\t60\t불합격\n",
      "이이\t76\t합격\n",
      "이황\t80\t합격\n",
      "정도전\t76\t합격\n",
      "김철수1\t88\t합격\n",
      "김철수2\t30\t불합격\n",
      "김철수3\t25\t불합격\n"
     ]
    }
   ],
   "source": [
    "# 14. 아래처럼 출력하시요(70점이상 합격 미만 불합격)\n",
    "\n",
    "res=np.where(sr>=70,'합격','불합격')\n",
    "print('이름\\t','국어\\t','합격여부')\n",
    "print('='*25)\n",
    "for (a,b), c in zip(sr.items(), res):\n",
    "    print(a,b,c,sep = '\\t')"
   ]
  },
  {
   "cell_type": "code",
   "execution_count": null,
   "metadata": {},
   "outputs": [],
   "source": []
  }
 ],
 "metadata": {
  "kernelspec": {
   "display_name": "Python 3",
   "language": "python",
   "name": "python3"
  },
  "language_info": {
   "codemirror_mode": {
    "name": "ipython",
    "version": 3
   },
   "file_extension": ".py",
   "mimetype": "text/x-python",
   "name": "python",
   "nbconvert_exporter": "python",
   "pygments_lexer": "ipython3",
   "version": "3.8.5"
  }
 },
 "nbformat": 4,
 "nbformat_minor": 4
}
